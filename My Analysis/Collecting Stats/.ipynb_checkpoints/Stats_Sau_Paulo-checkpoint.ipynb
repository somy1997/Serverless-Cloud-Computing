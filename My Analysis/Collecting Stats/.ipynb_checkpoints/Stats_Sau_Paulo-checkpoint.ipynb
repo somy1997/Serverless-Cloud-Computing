{
 "cells": [
  {
   "cell_type": "code",
   "execution_count": 92,
   "metadata": {},
   "outputs": [],
   "source": [
    "import requests\n",
    "import statistics\n",
    "import random\n",
    "import names\n",
    "import string\n",
    "#import itertools #default zip() which doesn't require any imports behaves like itertools.izip() did in py2 so just use zip(), also, no module in itertools called izip in py3"
   ]
  },
  {
   "cell_type": "code",
   "execution_count": 71,
   "metadata": {},
   "outputs": [],
   "source": [
    "# Generate data for n entries in the table in the file filename\n",
    "# Email ID has a pattern\n",
    "# First name and Last name are random\n",
    "def gendata(n,filename) :\n",
    "    f = open(filename, 'w')\n",
    "    random.seed(7)\n",
    "    for i in range(n):\n",
    "        #firstname = ''.join(random.choices(string.ascii_uppercase, k=random.randrange(2,18)))\n",
    "        #lastname = ''.join(random.choices(string.ascii_uppercase, k=random.randrange(2,18)))\n",
    "        firstname = names.get_first_name()\n",
    "        lastname = names.get_last_name()\n",
    "        line = \"custid%03d@iitkgp.ac.in,%s,%s\\n\"%(i, firstname, lastname)\n",
    "        f.write(line)\n",
    "    f.close()"
   ]
  },
  {
   "cell_type": "code",
   "execution_count": 80,
   "metadata": {},
   "outputs": [],
   "source": [
    "def loaddata(filename) :\n",
    "    f = open(filename, 'r')\n",
    "    datalist = []\n",
    "    for line in f:\n",
    "        datalist += [tuple(line.strip().split(','))]\n",
    "        #print(datalist[-1])\n",
    "    f.close()\n",
    "    return datalist"
   ]
  },
  {
   "cell_type": "code",
   "execution_count": 78,
   "metadata": {},
   "outputs": [],
   "source": [
    "def collectstatspost(datalist,baseurl):\n",
    "    statslist = []\n",
    "    for item in datalist :\n",
    "        payload = {'EmailID':item[0], 'FirstName':item[1], 'LastName':item[2]}\n",
    "        response=requests.post(baseurl,json=payload)\n",
    "        print(response.text)\n",
    "        statslist += [int(response.text.split('$')[-1])]\n",
    "    return statslist"
   ]
  },
  {
   "cell_type": "code",
   "execution_count": 109,
   "metadata": {},
   "outputs": [],
   "source": [
    "def collectstatsget(datalist,baseurl):\n",
    "    statslist = []\n",
    "    for item in datalist :\n",
    "        response=requests.get(baseurl+'?EmailID='+item[0])\n",
    "        print(response.text)\n",
    "        statslist += [int(response.text.split('$')[-1])]\n",
    "    return statslist"
   ]
  },
  {
   "cell_type": "code",
   "execution_count": 99,
   "metadata": {},
   "outputs": [],
   "source": [
    "def getbilledstats(filename):\n",
    "    f = open(filename, 'r')\n",
    "    statslist = []\n",
    "    for line in f:\n",
    "        print(line)\n",
    "        line = line.split()\n",
    "        #print(line)\n",
    "        statslist += [round(float(line[4]))] \n",
    "        #round function returns type as int by default (decimal places to keep is 0) otherwise float\n",
    "    f.close()\n",
    "    return statslist    "
   ]
  },
  {
   "cell_type": "code",
   "execution_count": 107,
   "metadata": {},
   "outputs": [],
   "source": [
    "def savestats(filename, actualstats, billedstats) :\n",
    "    f = open(filename, 'w')\n",
    "    f.write('Actual Time (ms),Billed Time (ms)\\n')\n",
    "    for (actualtime, billedtime) in zip(actualstats,billedstats):\n",
    "        f.write(\"%d,%d\\n\"%(actualtime,billedtime))\n",
    "    f.close()"
   ]
  },
  {
   "cell_type": "code",
   "execution_count": null,
   "metadata": {},
   "outputs": [],
   "source": [
    "#def getstats():\n",
    "gendata(101, \"data.txt\")"
   ]
  },
  {
   "cell_type": "code",
   "execution_count": 82,
   "metadata": {},
   "outputs": [
    {
     "data": {
      "text/plain": [
       "[('custid000@iitkgp.ac.in', 'Felisha', 'Vazquez'),\n",
       " ('custid001@iitkgp.ac.in', 'John', 'Dickens'),\n",
       " ('custid002@iitkgp.ac.in', 'Gail', 'Bohringer')]"
      ]
     },
     "execution_count": 82,
     "metadata": {},
     "output_type": "execute_result"
    }
   ],
   "source": [
    "datalist = loaddata(\"data.txt\")\n",
    "datalist"
   ]
  },
  {
   "cell_type": "code",
   "execution_count": null,
   "metadata": {},
   "outputs": [],
   "source": [
    "baseurlpost = 'https://at4u030oh3.execute-api.sa-east-1.amazonaws.com/testmypost/hellomypost'\n",
    "actualstatslistpost = collectstatspost(datalist,baseurlpost)"
   ]
  },
  {
   "cell_type": "code",
   "execution_count": 108,
   "metadata": {},
   "outputs": [
    {
     "name": "stdout",
     "output_type": "stream",
     "text": [
      "REPORT RequestId: 94486c08-8de3-4acb-8ba0-44991c3b2f73\tDuration: 738.41 ms\tBilled Duration: 800 ms Memory Size: 128 MB\tMax Memory Used: 92 MB\t\n",
      "\n",
      "REPORT RequestId: 9361eb51-6e02-4675-966f-dbfdf0a02962\tDuration: 96.43 ms\tBilled Duration: 100 ms Memory Size: 128 MB\tMax Memory Used: 92 MB\t\n",
      "\n",
      "REPORT RequestId: d344e025-ade4-44a1-ac88-787fec5588e7\tDuration: 86.84 ms\tBilled Duration: 100 ms Memory Size: 128 MB\tMax Memory Used: 92 MB\t\n"
     ]
    }
   ],
   "source": [
    "# Copy logs in the following file before running this cell\n",
    "billedlogsfile = 'cwlogspost.txt'\n",
    "billedstatslist = getbilledstats(billedlogsfile)\n",
    "savestatsfile = 'statspost.csv'\n",
    "savestats(savestatsfile,actualstatslist,billedstatslist)"
   ]
  },
  {
   "cell_type": "code",
   "execution_count": 110,
   "metadata": {},
   "outputs": [
    {
     "name": "stdout",
     "output_type": "stream",
     "text": [
      "{\"Item\":{\"FirstName\":\"Felisha\",\"EmailID\":\"custid000@iitkgp.ac.in\",\"LastName\":\"Vazquez\"}}$579\n",
      "{\"Item\":{\"FirstName\":\"John\",\"EmailID\":\"custid001@iitkgp.ac.in\",\"LastName\":\"Dickens\"}}$76\n",
      "{\"Item\":{\"FirstName\":\"Gail\",\"EmailID\":\"custid002@iitkgp.ac.in\",\"LastName\":\"Bohringer\"}}$63\n"
     ]
    }
   ],
   "source": [
    "baseurlget = 'https://at4u030oh3.execute-api.sa-east-1.amazonaws.com/testmyget/hellomyget'\n",
    "actualstatslistget = collectstatsget(datalist,baseurlget)"
   ]
  },
  {
   "cell_type": "code",
   "execution_count": null,
   "metadata": {},
   "outputs": [],
   "source": [
    "# Copy logs in the following file before running this cell\n",
    "billedlogsfile = 'cwlogsget.txt'\n",
    "billedstatslist = getbilledstats(billedlogsfile)\n",
    "savestatsfile = 'statsget.csv'\n",
    "savestats(savestatsfile,actualstatslist,billedstatslist)"
   ]
  },
  {
   "cell_type": "code",
   "execution_count": 77,
   "metadata": {},
   "outputs": [
    {
     "name": "stdout",
     "output_type": "stream",
     "text": [
      "[504, 284, 47]\n"
     ]
    }
   ],
   "source": [
    "print(statslist)"
   ]
  },
  {
   "cell_type": "code",
   "execution_count": 100,
   "metadata": {},
   "outputs": [
    {
     "name": "stdout",
     "output_type": "stream",
     "text": [
      "REPORT RequestId: 94486c08-8de3-4acb-8ba0-44991c3b2f73\tDuration: 738.41 ms\tBilled Duration: 800 ms Memory Size: 128 MB\tMax Memory Used: 92 MB\t\n",
      "\n",
      "REPORT RequestId: 9361eb51-6e02-4675-966f-dbfdf0a02962\tDuration: 96.43 ms\tBilled Duration: 100 ms Memory Size: 128 MB\tMax Memory Used: 92 MB\t\n",
      "\n",
      "REPORT RequestId: d344e025-ade4-44a1-ac88-787fec5588e7\tDuration: 86.84 ms\tBilled Duration: 100 ms Memory Size: 128 MB\tMax Memory Used: 92 MB\t\n"
     ]
    },
    {
     "data": {
      "text/plain": [
       "[738, 96, 87]"
      ]
     },
     "execution_count": 100,
     "metadata": {},
     "output_type": "execute_result"
    }
   ],
   "source": [
    "getbilledstats('cwlogs.txt')"
   ]
  },
  {
   "cell_type": "code",
   "execution_count": null,
   "metadata": {},
   "outputs": [],
   "source": []
  }
 ],
 "metadata": {
  "kernelspec": {
   "display_name": "Python 3",
   "language": "python",
   "name": "python3"
  },
  "language_info": {
   "codemirror_mode": {
    "name": "ipython",
    "version": 3
   },
   "file_extension": ".py",
   "mimetype": "text/x-python",
   "name": "python",
   "nbconvert_exporter": "python",
   "pygments_lexer": "ipython3",
   "version": "3.7.2"
  }
 },
 "nbformat": 4,
 "nbformat_minor": 2
}
